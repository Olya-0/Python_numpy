{
 "cells": [
  {
   "cell_type": "code",
   "execution_count": 1,
   "id": "4b4fb13c",
   "metadata": {},
   "outputs": [],
   "source": [
    "## Задание 1\n",
    "## Импортируйте библиотеку Numpy и дайте ей псевдоним np.\n",
    "## Создайте массив Numpy под названием a размером 5x2, то есть состоящий из 5 строк и 2 столбцов. \n",
    "## Первый столбец должен содержать числа 1, 2, 3, 3, 1, а второй - числа 6, 8, 11, 10, 7. \n",
    "## Будем считать, что каждый столбец - это признак, а строка - наблюдение. \n",
    "## Затем найдите среднее значение по каждому признаку, используя метод mean массива Numpy. \n",
    "## Результат запишите в массив mean_a, в нем должно быть 2 элемента.\n"
   ]
  },
  {
   "cell_type": "code",
   "execution_count": 13,
   "id": "8634916e",
   "metadata": {},
   "outputs": [],
   "source": [
    "import numpy as np"
   ]
  },
  {
   "cell_type": "code",
   "execution_count": 14,
   "id": "767ea960",
   "metadata": {},
   "outputs": [],
   "source": [
    "a = np.array ([[1,6],\n",
    "               [2,8],\n",
    "               [3,11],\n",
    "               [3,10],\n",
    "               [1,7]])"
   ]
  },
  {
   "cell_type": "code",
   "execution_count": 15,
   "id": "548263c5",
   "metadata": {},
   "outputs": [],
   "source": [
    "mean_a = np.mean(a,axis=0)"
   ]
  },
  {
   "cell_type": "code",
   "execution_count": 16,
   "id": "d64e37fc",
   "metadata": {},
   "outputs": [
    {
     "data": {
      "text/plain": [
       "array([2. , 8.4])"
      ]
     },
     "execution_count": 16,
     "metadata": {},
     "output_type": "execute_result"
    }
   ],
   "source": [
    "mean_a"
   ]
  },
  {
   "cell_type": "code",
   "execution_count": null,
   "id": "e64cdd72",
   "metadata": {},
   "outputs": [],
   "source": [
    " ## Задание 2\n",
    " ## Вычислите массив a_centered, отняв от значений массива “а” средние значения соответствующих признаков, \n",
    " ## содержащиеся в массиве mean_a. \n",
    " ## Вычисление должно производиться в одно действие. \n",
    " ## Получившийся массив должен иметь размер 5x2."
   ]
  },
  {
   "cell_type": "code",
   "execution_count": 17,
   "id": "219d094a",
   "metadata": {},
   "outputs": [],
   "source": [
    "a_centered = np.subtract(a, mean_a)"
   ]
  },
  {
   "cell_type": "code",
   "execution_count": 18,
   "id": "94e6ab88",
   "metadata": {},
   "outputs": [
    {
     "data": {
      "text/plain": [
       "array([[-1. , -2.4],\n",
       "       [ 0. , -0.4],\n",
       "       [ 1. ,  2.6],\n",
       "       [ 1. ,  1.6],\n",
       "       [-1. , -1.4]])"
      ]
     },
     "execution_count": 18,
     "metadata": {},
     "output_type": "execute_result"
    }
   ],
   "source": [
    "a_centered"
   ]
  },
  {
   "cell_type": "code",
   "execution_count": null,
   "id": "5b59923d",
   "metadata": {},
   "outputs": [],
   "source": [
    "## Задание 3\n",
    "## Найдите скалярное произведение столбцов массива a_centered. \n",
    "## В результате должна получиться величина a_centered_sp.\n",
    "## Затем поделите a_centered_sp на N-1, где N - число наблюдений."
   ]
  },
  {
   "cell_type": "code",
   "execution_count": 19,
   "id": "9d523536",
   "metadata": {},
   "outputs": [],
   "source": [
    "a1 = a_centered[:,0]"
   ]
  },
  {
   "cell_type": "code",
   "execution_count": 21,
   "id": "165c7c68",
   "metadata": {},
   "outputs": [],
   "source": [
    "a2 = a_centered[:,1]"
   ]
  },
  {
   "cell_type": "code",
   "execution_count": 22,
   "id": "435a333e",
   "metadata": {},
   "outputs": [],
   "source": [
    "a_centered_sp = np.dot(a1,a2)"
   ]
  },
  {
   "cell_type": "code",
   "execution_count": 23,
   "id": "b7ab9e8a",
   "metadata": {
    "scrolled": true
   },
   "outputs": [
    {
     "data": {
      "text/plain": [
       "8.0"
      ]
     },
     "execution_count": 23,
     "metadata": {},
     "output_type": "execute_result"
    }
   ],
   "source": [
    "a_centered_sp"
   ]
  },
  {
   "cell_type": "code",
   "execution_count": 24,
   "id": "11c34bdd",
   "metadata": {},
   "outputs": [],
   "source": [
    "N = a.shape[0]"
   ]
  },
  {
   "cell_type": "code",
   "execution_count": 25,
   "id": "355ffa59",
   "metadata": {},
   "outputs": [
    {
     "data": {
      "text/plain": [
       "5"
      ]
     },
     "execution_count": 25,
     "metadata": {},
     "output_type": "execute_result"
    }
   ],
   "source": [
    "N"
   ]
  },
  {
   "cell_type": "code",
   "execution_count": 26,
   "id": "9aaa8d94",
   "metadata": {},
   "outputs": [],
   "source": [
    "b = a_centered_sp/(N-1)"
   ]
  },
  {
   "cell_type": "code",
   "execution_count": 27,
   "id": "a717a20c",
   "metadata": {},
   "outputs": [
    {
     "data": {
      "text/plain": [
       "2.0"
      ]
     },
     "execution_count": 27,
     "metadata": {},
     "output_type": "execute_result"
    }
   ],
   "source": [
    "b"
   ]
  },
  {
   "cell_type": "code",
   "execution_count": 28,
   "id": "d5e66000",
   "metadata": {},
   "outputs": [],
   "source": [
    "np.save(\"a.npy\", a)"
   ]
  },
  {
   "cell_type": "code",
   "execution_count": null,
   "id": "2d0cf8fe",
   "metadata": {},
   "outputs": [],
   "source": []
  }
 ],
 "metadata": {
  "kernelspec": {
   "display_name": "Python 3 (ipykernel)",
   "language": "python",
   "name": "python3"
  },
  "language_info": {
   "codemirror_mode": {
    "name": "ipython",
    "version": 3
   },
   "file_extension": ".py",
   "mimetype": "text/x-python",
   "name": "python",
   "nbconvert_exporter": "python",
   "pygments_lexer": "ipython3",
   "version": "3.9.12"
  }
 },
 "nbformat": 4,
 "nbformat_minor": 5
}
